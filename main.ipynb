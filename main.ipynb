{
 "cells": [
  {
   "cell_type": "code",
   "execution_count": null,
   "metadata": {},
   "outputs": [],
   "source": [
    "# Load dependencies\n",
    "import numpy as np\n",
    "import pandas as pd\n",
    "import matplotlib.pyplot as plt\n",
    "from scipy import signal\n",
    "\n",
    "from bagpy import bagreader"
   ]
  },
  {
   "cell_type": "code",
   "execution_count": null,
   "metadata": {},
   "outputs": [],
   "source": [
    "# Import data\n",
    "#bag_filename = \"data/_202211301120.51.bag\"\n",
    "bag_filename = \"data/_202211301118.14.bag\"\n",
    "#bag_filename = \"data/_202211301115.18.bag\"\n",
    "\n",
    "bag = bagreader(bag_filename)"
   ]
  },
  {
   "cell_type": "code",
   "execution_count": null,
   "metadata": {},
   "outputs": [],
   "source": [
    "# Extract data\n",
    "accel_df = pd.read_csv(bag.message_by_topic('/imu/acceleration'))[1:]\n",
    "gyro_df = pd.read_csv(bag.message_by_topic('/imu/angular_velocity'))[1:]\n",
    "timesteps = (accel_df['header.stamp.secs'].diff(1) + accel_df['header.stamp.nsecs'].diff(1) / 1e9).to_numpy()\n",
    "\n",
    "\n",
    "# averaging_window = 20\n",
    "\n",
    "\n",
    "\n",
    "# vec_accel_raw = accel_df[['vector.x', 'vector.y', 'vector.z']].rolling(averaging_window).mean().to_numpy()\n",
    "# vec_gyro_raw = gyro_df[['vector.x', 'vector.y', 'vector.z']].rolling(averaging_window).mean().to_numpy()\n",
    "\n",
    "vec_accel_raw = accel_df[['vector.x', 'vector.y', 'vector.z']].to_numpy()\n",
    "vec_gyro_raw = gyro_df[['vector.x', 'vector.y', 'vector.z']].to_numpy()\n",
    "\n",
    "# Plot acceleration and gyroscope data\n",
    "plt.figure(figsize=(10, 10))\n",
    "plt.subplot(2,1,1)\n",
    "plt.plot(vec_accel_raw)\n",
    "plt.title('Acceleration Raw')\n",
    "plt.legend(['x', 'y', 'z'])\n",
    "plt.subplot(2,1,2)\n",
    "plt.plot(vec_gyro_raw)\n",
    "plt.title('Gyroscope Raw')\n",
    "plt.legend(['x', 'y', 'z'])\n",
    "plt.show()\n",
    "\n"
   ]
  },
  {
   "cell_type": "code",
   "execution_count": null,
   "metadata": {},
   "outputs": [],
   "source": [
    "# Do: calibration\n",
    "\n",
    "# Set z axis of accelerometer to 0\n",
    "vec_accel_raw[:,2] = 0\n",
    "\n",
    "\n",
    "vec_accel = vec_accel_raw\n",
    "vec_gyro = vec_gyro_raw"
   ]
  },
  {
   "cell_type": "code",
   "execution_count": null,
   "metadata": {},
   "outputs": [],
   "source": [
    "# Get velocity and orientation\n",
    "vec_velocity = np.cumsum(vec_accel, axis=0) * timesteps[:, np.newaxis]\n",
    "vec_orientation = np.cumsum(vec_gyro, axis=0) * timesteps[:, np.newaxis]\n",
    "\n",
    "\n",
    "\n",
    "vec_orientation_filtered = []\n",
    "vec_velocity_filtered = []\n",
    "\n",
    "\n",
    "# Try high-pass filtering the data\n",
    "coefficients = signal.firwin(1001, 2, fs=1000, pass_zero=False)\n",
    "\n",
    "\n",
    "x_filtered = signal.lfilter(coefficients, 1, vec_velocity[1:,0])\n",
    "y_filtered = signal.lfilter(coefficients, 1, vec_velocity[1:,1])\n",
    "z_filtered = signal.lfilter(coefficients, 1, vec_velocity[1:,2])\n",
    "\n",
    "vec_velocity_filtered = np.array(list(zip(x_filtered, y_filtered, z_filtered)))\n",
    "\n",
    "x_filtered = signal.lfilter(coefficients, 1, vec_orientation[1:,0])\n",
    "y_filtered = signal.lfilter(coefficients, 1, vec_orientation[1:,1])\n",
    "z_filtered = signal.lfilter(coefficients, 1, vec_orientation[1:,2])\n",
    "\n",
    "vec_orientation_filtered = np.array(list(zip(x_filtered, y_filtered, z_filtered)))\n",
    "\n",
    "# for p in range(len(vec_velocity)):\n",
    "#     x, y, z = vec_velocity[p]\n",
    "\n",
    "#     x_filtered = signal.filtfilt(b, a, x)\n",
    "#     y_filtered = signal.filtfilt(b, a, y)\n",
    "#     z_filtered = signal.filtfilt(b, a, z)\n",
    "#     vec_velocity_filtered.append([x_filtered, y_filtered, z_filtered])  \n",
    "\n",
    "#     x, y, z = vec_orientation[p]\n",
    "#     x_filtered = signal.filtfilt(b, a, x)\n",
    "#     y_filtered = signal.filtfilt(b, a, y)\n",
    "#     z_filtered = signal.filtfilt(b, a, z)\n",
    "#     vec_orientation_filtered.append([x_filtered, y_filtered, z_filtered])  \n",
    "\n",
    "\n",
    "\n",
    "plt.figure(figsize=(10, 10))\n",
    "plt.subplot(2,1,1)\n",
    "plt.plot(vec_velocity_filtered[::100])\n",
    "plt.legend(['x', 'y', 'z'])\n",
    "plt.title('Acceleration')\n",
    "plt.subplot(2,1,2)\n",
    "plt.plot(vec_orientation_filtered[::100])\n",
    "plt.legend(['x', 'y', 'z'])\n",
    "plt.title('Orientation')\n",
    "plt.show()"
   ]
  },
  {
   "cell_type": "code",
   "execution_count": null,
   "metadata": {},
   "outputs": [],
   "source": [
    "vec_velocity = vec_velocity_filtered\n",
    "vec_orientation = vec_orientation_filtered\n",
    "\n",
    "# Apply transformation from body coordinates to world coordinates for each timestep\n",
    "velocity_world = []\n",
    "\n",
    "for i in range(len(vec_velocity)):\n",
    "    # Calculate rotation matrix using orientation data\n",
    "    R = np.array([[np.cos(vec_orientation[i][2])*np.cos(vec_orientation[i][1]), -np.sin(vec_orientation[i][2])*np.cos(vec_orientation[i][0]) + np.cos(vec_orientation[i][2])*np.sin(vec_orientation[i][1])*np.sin(vec_orientation[i][0]), np.sin(vec_orientation[i][2])*np.sin(vec_orientation[i][0]) + np.cos(vec_orientation[i][2])*np.sin(vec_orientation[i][1])*np.cos(vec_orientation[i][0])],\n",
    "                     [np.sin(vec_orientation[i][2])*np.cos(vec_orientation[i][1]), np.cos(vec_orientation[i][2])*np.cos(vec_orientation[i][0]) + np.sin(vec_orientation[i][2])*np.sin(vec_orientation[i][1])*np.sin(vec_orientation[i][0]), -np.cos(vec_orientation[i][2])*np.sin(vec_orientation[i][0]) + np.sin(vec_orientation[i][2])*np.sin(vec_orientation[i][1])*np.cos(vec_orientation[i][0])],\n",
    "                     [-np.sin(vec_orientation[i][1]), np.cos(vec_orientation[i][1])*np.sin(vec_orientation[i][0]), np.cos(vec_orientation[i][1])*np.cos(vec_orientation[i][0])]])\n",
    "\n",
    "    velocity_world.append(np.matmul(R, vec_velocity[i]))\n",
    "velocity_world = [list(v) for v in velocity_world]\n",
    "\n",
    "# Plot velocity in world coordinates\n",
    "plt.figure(figsize=(10, 10))\n",
    "plt.plot(velocity_world)\n",
    "plt.legend(['x', 'y', 'z'])\n",
    "plt.title('Velocity in world coordinates')\n",
    "plt.show()\n"
   ]
  },
  {
   "cell_type": "code",
   "execution_count": null,
   "metadata": {},
   "outputs": [],
   "source": [
    "# Get world position\n",
    "vec_position = np.cumsum(velocity_world, axis=0) * timesteps[1:, np.newaxis]"
   ]
  },
  {
   "cell_type": "code",
   "execution_count": null,
   "metadata": {},
   "outputs": [],
   "source": [
    "# Plot data\n",
    "# Extract the x, y, and z coordinates of the points\n",
    "\n",
    "\n",
    "# plot it\n",
    "fig = plt.figure()\n",
    "ax = plt.axes(projection='3d')\n",
    "xdata = vec_position[:, 0]\n",
    "ydata = vec_position[:, 1]\n",
    "zdata = vec_position[:, 2]\n",
    "\n",
    "\n",
    "ax.plot(xdata[::100], ydata[::100], zdata[::100])\n",
    "ax.set_xlabel('x [m]')\n",
    "ax.set_ylabel('y [m]')\n",
    "ax.set_zlabel('z [m]')\n",
    "plt.show()"
   ]
  }
 ],
 "metadata": {
  "kernelspec": {
   "display_name": ".venv",
   "language": "python",
   "name": "python3"
  },
  "language_info": {
   "codemirror_mode": {
    "name": "ipython",
    "version": 3
   },
   "file_extension": ".py",
   "mimetype": "text/x-python",
   "name": "python",
   "nbconvert_exporter": "python",
   "pygments_lexer": "ipython3",
   "version": "3.10.8 (main, Nov 14 2022, 00:00:00) [GCC 12.2.1 20220819 (Red Hat 12.2.1-2)]"
  },
  "orig_nbformat": 4,
  "vscode": {
   "interpreter": {
    "hash": "0207efc8d76a76527f9467ebdbe8919384e48072686aefde3f11372411e33daf"
   }
  }
 },
 "nbformat": 4,
 "nbformat_minor": 2
}
