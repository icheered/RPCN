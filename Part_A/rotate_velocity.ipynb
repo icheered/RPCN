{
 "cells": [
  {
   "cell_type": "code",
   "execution_count": null,
   "metadata": {},
   "outputs": [],
   "source": [
    "#interactive widgets in vs code\n",
    "%matplotlib inline\n",
    "\n",
    "#dependencies\n",
    "import numpy as np\n",
    "import pandas as pd\n",
    "import matplotlib.pyplot as plt\n",
    "\n",
    "import bagpy\n",
    "from bagpy import bagreader"
   ]
  },
  {
   "cell_type": "code",
   "execution_count": null,
   "metadata": {},
   "outputs": [],
   "source": [
    "# Read rosbag data\n",
    "bag = bagreader(\"data/test2.bag\")\n",
    "\n",
    "# extract data from bag, and convert to pandas dataframe\n",
    "accel_df = pd.read_csv(bag.message_by_topic('/imu/acceleration'))\n",
    "gyro_df = pd.read_csv(bag.message_by_topic('/imu/angular_velocity'))\n",
    "bag.topic_table"
   ]
  },
  {
   "cell_type": "code",
   "execution_count": null,
   "metadata": {},
   "outputs": [],
   "source": [
    "# calculate time difference between measurements\n",
    "timesteps = (accel_df['header.stamp.secs'].diff(1) + accel_df['header.stamp.nsecs'].diff(1) / 1e9).to_numpy()\n",
    "\n",
    "# take rolling average of IMU data and store to numpy array, this is to filter noise\n",
    "averaging_window = 20\n",
    "vec_accel_raw = accel_df[['vector.x', 'vector.y', 'vector.z']].rolling(averaging_window).mean().to_numpy()\n",
    "vec_gyro_raw = gyro_df[['vector.x', 'vector.y', 'vector.z']].rolling(averaging_window).mean().to_numpy()\n",
    "\n",
    "# longer averaging to get bias over time\n",
    "accel_bias = -accel_df[['vector.x', 'vector.y', 'vector.z']].rolling(10000).mean().to_numpy()\n",
    "\n",
    "# replace nan values using closest value\n",
    "def replace_nan(a):\n",
    "    ind = np.where(~np.isnan(a))[0]\n",
    "    first, last = ind[0], ind[-1]\n",
    "    a[:first] = a[first]\n",
    "    a[last + 1:] = a[last]\n",
    "    return a\n",
    "\n",
    "timesteps = replace_nan(timesteps)\n",
    "vec_gyro_raw = replace_nan(vec_gyro_raw)\n"
   ]
  },
  {
   "cell_type": "code",
   "execution_count": null,
   "metadata": {},
   "outputs": [],
   "source": [
    "# integrate angular velocity to find rotation (multiply with timestep, then cumulative sum)\n",
    "vec_rotation = np.cumsum(vec_gyro_raw * timesteps[:, np.newaxis], axis=0)\n",
    "\n",
    "# rotation calculations\n",
    "vec_velocity_rotated = np.zeros_like(vec_gyro_raw)\n",
    "\n",
    "for nr, rotation_measure in enumerate(vec_rotation):    # loop over vectors\n",
    "    roll, pitch, yaw = rotation_measure\n",
    "    rollMatrix = np.matrix([                    # rotation about x\n",
    "        [1, 0,             0           ],\n",
    "        [0, np.cos(roll), -np.sin(roll)],\n",
    "        [0, np.sin(roll),  np.cos(roll)]])\n",
    "    pitchMatrix = np.matrix([                   # rotation about y\n",
    "        [ np.cos(pitch), 0, np.sin(pitch)],\n",
    "        [0,              1,  0           ],\n",
    "        [-np.sin(pitch), 0, np.cos(pitch)]])\n",
    "    yawMatrix = np.matrix([                     # rotation about z\n",
    "        [np.cos(yaw), -np.sin(yaw), 0],\n",
    "        [np.sin(yaw),  np.cos(yaw), 0],\n",
    "        [0,            0,           1]])\n",
    "\n",
    "    R = yawMatrix * pitchMatrix * rollMatrix        # combined rotation matrix\n",
    "    accel_rotated = np.matmul(R, [1, 0, 0])     # matrix multiplication with accel vector\n",
    "\n",
    "    vec_velocity_rotated[nr, :] = accel_rotated        # add to array\n",
    "\n",
    "# integrate accel and velocity to get position (multiply with timestep, then cumulative sum)\n",
    "vec_position = np.cumsum(vec_velocity_rotated * timesteps[:, np.newaxis], axis=0)"
   ]
  },
  {
   "cell_type": "code",
   "execution_count": null,
   "metadata": {},
   "outputs": [],
   "source": [
    "# calculate magnitude of drift\n",
    "start_pos = vec_position[:500].mean(axis=0)\n",
    "end_pos = vec_position[-500:].mean(axis=0)\n",
    "\n",
    "drift = end_pos - start_pos\n",
    "drift"
   ]
  },
  {
   "cell_type": "code",
   "execution_count": null,
   "metadata": {},
   "outputs": [],
   "source": [
    "# plot trajectory\n",
    "fig = plt.figure()\n",
    "#ax = plt.axes(projection='3d')\n",
    "ax = plt.axes()\n",
    "xdata = vec_position[:, 0]\n",
    "ydata = vec_position[:, 1]\n",
    "zdata = vec_position[:, 2]\n",
    "\n",
    "#ax.plot(*start_pos, 'gx')\n",
    "#ax.plot(*end_pos, 'rx')\n",
    "ax.plot(xdata, ydata)\n",
    "ax.set_xlabel('x [m]')\n",
    "ax.set_ylabel('y [m]')\n",
    "#ax.set_zlabel('z [m]')\n",
    "plt.show()"
   ]
  },
  {
   "cell_type": "code",
   "execution_count": null,
   "metadata": {},
   "outputs": [],
   "source": []
  },
  {
   "cell_type": "code",
   "execution_count": null,
   "metadata": {},
   "outputs": [],
   "source": []
  },
  {
   "cell_type": "code",
   "execution_count": null,
   "metadata": {},
   "outputs": [],
   "source": []
  }
 ],
 "metadata": {
  "kernelspec": {
   "display_name": "Python 3 (ipykernel)",
   "language": "python",
   "name": "python3"
  },
  "orig_nbformat": 4,
  "vscode": {
   "interpreter": {
    "hash": "fba5350a6005b030340f54d2859ec5751162ca58f48785b250cccfbf48f4ea39"
   }
  }
 },
 "nbformat": 4,
 "nbformat_minor": 2
}
