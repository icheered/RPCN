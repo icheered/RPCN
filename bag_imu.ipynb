{
 "cells": [
  {
   "cell_type": "code",
   "execution_count": 1,
   "metadata": {},
   "outputs": [],
   "source": [
    "import bagpy\n",
    "from bagpy import bagreader\n",
    "\n",
    "import numpy as np\n",
    "import pandas as pd\n",
    "\n",
    "import matplotlib.pyplot as plt\n",
    "import seaborn as sns"
   ]
  },
  {
   "cell_type": "code",
   "execution_count": 2,
   "metadata": {},
   "outputs": [
    {
     "name": "stdout",
     "output_type": "stream",
     "text": [
      "[INFO]  Successfully created the data folder data/test1.\n"
     ]
    }
   ],
   "source": [
    "bag = bagreader(\"data/test1.bag\")\n",
    "#bag.topic_table"
   ]
  },
  {
   "cell_type": "code",
   "execution_count": 3,
   "metadata": {},
   "outputs": [
    {
     "data": {
      "text/html": [
       "<div>\n",
       "<style scoped>\n",
       "    .dataframe tbody tr th:only-of-type {\n",
       "        vertical-align: middle;\n",
       "    }\n",
       "\n",
       "    .dataframe tbody tr th {\n",
       "        vertical-align: top;\n",
       "    }\n",
       "\n",
       "    .dataframe thead th {\n",
       "        text-align: right;\n",
       "    }\n",
       "</style>\n",
       "<table border=\"1\" class=\"dataframe\">\n",
       "  <thead>\n",
       "    <tr style=\"text-align: right;\">\n",
       "      <th></th>\n",
       "      <th>Time</th>\n",
       "      <th>header.seq</th>\n",
       "      <th>header.stamp.secs</th>\n",
       "      <th>header.stamp.nsecs</th>\n",
       "      <th>header.frame_id</th>\n",
       "      <th>vector.x</th>\n",
       "      <th>vector.y</th>\n",
       "      <th>vector.z</th>\n",
       "    </tr>\n",
       "  </thead>\n",
       "  <tbody>\n",
       "    <tr>\n",
       "      <th>0</th>\n",
       "      <td>1.669803e+09</td>\n",
       "      <td>250</td>\n",
       "      <td>1669803320</td>\n",
       "      <td>423047544</td>\n",
       "      <td>imu_link</td>\n",
       "      <td>-1.434981</td>\n",
       "      <td>0.498791</td>\n",
       "      <td>9.674213</td>\n",
       "    </tr>\n",
       "    <tr>\n",
       "      <th>1</th>\n",
       "      <td>1.669803e+09</td>\n",
       "      <td>251</td>\n",
       "      <td>1669803320</td>\n",
       "      <td>428319850</td>\n",
       "      <td>imu_link</td>\n",
       "      <td>-1.426545</td>\n",
       "      <td>0.546572</td>\n",
       "      <td>9.681358</td>\n",
       "    </tr>\n",
       "    <tr>\n",
       "      <th>2</th>\n",
       "      <td>1.669803e+09</td>\n",
       "      <td>252</td>\n",
       "      <td>1669803320</td>\n",
       "      <td>432516182</td>\n",
       "      <td>imu_link</td>\n",
       "      <td>-1.436896</td>\n",
       "      <td>0.555246</td>\n",
       "      <td>9.700562</td>\n",
       "    </tr>\n",
       "  </tbody>\n",
       "</table>\n",
       "</div>"
      ],
      "text/plain": [
       "           Time  header.seq  header.stamp.secs  header.stamp.nsecs  \\\n",
       "0  1.669803e+09         250         1669803320           423047544   \n",
       "1  1.669803e+09         251         1669803320           428319850   \n",
       "2  1.669803e+09         252         1669803320           432516182   \n",
       "\n",
       "  header.frame_id  vector.x  vector.y  vector.z  \n",
       "0        imu_link -1.434981  0.498791  9.674213  \n",
       "1        imu_link -1.426545  0.546572  9.681358  \n",
       "2        imu_link -1.436896  0.555246  9.700562  "
      ]
     },
     "execution_count": 3,
     "metadata": {},
     "output_type": "execute_result"
    }
   ],
   "source": [
    "accel_df = pd.read_csv(bag.message_by_topic('/imu/acceleration'))\n",
    "accel_df.head(3)"
   ]
  },
  {
   "cell_type": "code",
   "execution_count": 4,
   "metadata": {},
   "outputs": [
    {
     "data": {
      "text/html": [
       "<div>\n",
       "<style scoped>\n",
       "    .dataframe tbody tr th:only-of-type {\n",
       "        vertical-align: middle;\n",
       "    }\n",
       "\n",
       "    .dataframe tbody tr th {\n",
       "        vertical-align: top;\n",
       "    }\n",
       "\n",
       "    .dataframe thead th {\n",
       "        text-align: right;\n",
       "    }\n",
       "</style>\n",
       "<table border=\"1\" class=\"dataframe\">\n",
       "  <thead>\n",
       "    <tr style=\"text-align: right;\">\n",
       "      <th></th>\n",
       "      <th>Time</th>\n",
       "      <th>header.seq</th>\n",
       "      <th>header.stamp.secs</th>\n",
       "      <th>header.stamp.nsecs</th>\n",
       "      <th>header.frame_id</th>\n",
       "      <th>vector.x</th>\n",
       "      <th>vector.y</th>\n",
       "      <th>vector.z</th>\n",
       "    </tr>\n",
       "  </thead>\n",
       "  <tbody>\n",
       "    <tr>\n",
       "      <th>0</th>\n",
       "      <td>1.669803e+09</td>\n",
       "      <td>250</td>\n",
       "      <td>1669803320</td>\n",
       "      <td>423047544</td>\n",
       "      <td>imu_link</td>\n",
       "      <td>0.003190</td>\n",
       "      <td>-0.004760</td>\n",
       "      <td>0.003020</td>\n",
       "    </tr>\n",
       "    <tr>\n",
       "      <th>1</th>\n",
       "      <td>1.669803e+09</td>\n",
       "      <td>251</td>\n",
       "      <td>1669803320</td>\n",
       "      <td>428319850</td>\n",
       "      <td>imu_link</td>\n",
       "      <td>-0.001221</td>\n",
       "      <td>-0.005975</td>\n",
       "      <td>-0.000975</td>\n",
       "    </tr>\n",
       "    <tr>\n",
       "      <th>2</th>\n",
       "      <td>1.669803e+09</td>\n",
       "      <td>252</td>\n",
       "      <td>1669803320</td>\n",
       "      <td>432516182</td>\n",
       "      <td>imu_link</td>\n",
       "      <td>0.001955</td>\n",
       "      <td>-0.001276</td>\n",
       "      <td>-0.003164</td>\n",
       "    </tr>\n",
       "  </tbody>\n",
       "</table>\n",
       "</div>"
      ],
      "text/plain": [
       "           Time  header.seq  header.stamp.secs  header.stamp.nsecs  \\\n",
       "0  1.669803e+09         250         1669803320           423047544   \n",
       "1  1.669803e+09         251         1669803320           428319850   \n",
       "2  1.669803e+09         252         1669803320           432516182   \n",
       "\n",
       "  header.frame_id  vector.x  vector.y  vector.z  \n",
       "0        imu_link  0.003190 -0.004760  0.003020  \n",
       "1        imu_link -0.001221 -0.005975 -0.000975  \n",
       "2        imu_link  0.001955 -0.001276 -0.003164  "
      ]
     },
     "execution_count": 4,
     "metadata": {},
     "output_type": "execute_result"
    }
   ],
   "source": [
    "gyro_df = pd.read_csv(bag.message_by_topic('/imu/angular_velocity'))\n",
    "gyro_df.head(3)"
   ]
  },
  {
   "cell_type": "code",
   "execution_count": 7,
   "metadata": {},
   "outputs": [],
   "source": [
    "# get relevant data\n",
    "\n",
    "accel_df['time_diff_ns'] = accel_df['header.stamp.secs'].diff(1) + accel_df['header.stamp.nsecs'].diff(1) / 1e9\n",
    "timesteps = accel_df['time_diff_ns'].to_numpy()\n",
    "vec_accel = accel_df[['vector.x', 'vector.y', 'vector.z']].to_numpy()\n",
    "vec_gyro = gyro_df[['vector.x', 'vector.y', 'vector.z']].to_numpy()"
   ]
  },
  {
   "cell_type": "code",
   "execution_count": null,
   "metadata": {},
   "outputs": [],
   "source": [
    "# do calibrations and averaging\n"
   ]
  },
  {
   "cell_type": "code",
   "execution_count": null,
   "metadata": {},
   "outputs": [],
   "source": [
    "# do some integrations\n"
   ]
  },
  {
   "cell_type": "code",
   "execution_count": null,
   "metadata": {},
   "outputs": [],
   "source": [
    "# plot it\n",
    "fig = plt.figure()\n",
    "ax = plt.axes(projection='3d')\n",
    "xdata = accel_df['position_x'].values\n",
    "ydata = accel_df['position_y'].values\n",
    "zdata = accel_df['position_z'].values\n",
    "\n",
    "ax.scatter(xdata, ydata, zdata)\n",
    "plt.show()"
   ]
  }
 ],
 "metadata": {
  "kernelspec": {
   "display_name": "lidarmeasurementdata-W7JuWuVR-py3.10",
   "language": "python",
   "name": "python3"
  },
  "language_info": {
   "codemirror_mode": {
    "name": "ipython",
    "version": 3
   },
   "file_extension": ".py",
   "mimetype": "text/x-python",
   "name": "python",
   "nbconvert_exporter": "python",
   "pygments_lexer": "ipython3",
   "version": "3.10.8"
  },
  "orig_nbformat": 4,
  "vscode": {
   "interpreter": {
    "hash": "ce6461f9fa82282bf3e04b8d70514b62b55cfe01c23ebd1dffb3a5c45b1f90bd"
   }
  }
 },
 "nbformat": 4,
 "nbformat_minor": 2
}
